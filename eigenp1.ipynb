{
 "cells": [
  {
   "cell_type": "code",
   "execution_count": 2,
   "metadata": {},
   "outputs": [
    {
     "name": "stdout",
     "output_type": "stream",
     "text": [
      "['BdcXf', 'CdcXf']\n"
     ]
    }
   ],
   "source": [
    "import copy\n",
    "def generate(str, Dict):\n",
    "    resut=[]\n",
    "    for i in range(len(str)):\n",
    "        if(str[i] in Dict):\n",
    "            values=Dict[str[i]]\n",
    "            if(len(resut)==0):\n",
    "                for v in values:\n",
    "                    temp=list(copy.deepcopy(str))\n",
    "                    temp[i]=v\n",
    "                    resut.append(\"\".join(temp))\n",
    "            else:\n",
    "                temp = []\n",
    "                for v in values:\n",
    "                    for r in resut:\n",
    "                        l=list(r)\n",
    "                        l[i]=v\n",
    "                        temp.append(\"\".join(l))\n",
    "                resut=temp\n",
    "    print(resut)\n",
    "\n",
    "generate(\"adcbf\",{'a': ['B', 'C'], 'b': ['X']})"
   ]
  },
  {
   "cell_type": "code",
   "execution_count": null,
   "metadata": {},
   "outputs": [],
   "source": []
  }
 ],
 "metadata": {
  "kernelspec": {
   "display_name": "Python 3",
   "language": "python",
   "name": "python3"
  },
  "language_info": {
   "codemirror_mode": {
    "name": "ipython",
    "version": 3
   },
   "file_extension": ".py",
   "mimetype": "text/x-python",
   "name": "python",
   "nbconvert_exporter": "python",
   "pygments_lexer": "ipython3",
   "version": "3.6.6"
  }
 },
 "nbformat": 4,
 "nbformat_minor": 2
}
